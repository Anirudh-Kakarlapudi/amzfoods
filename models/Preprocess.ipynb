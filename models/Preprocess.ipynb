{
 "cells": [
  {
   "cell_type": "code",
   "execution_count": null,
   "id": "518fa38a",
   "metadata": {},
   "outputs": [],
   "source": [
    "import os\n",
    "import re\n",
    "import nltk\n",
    "import swifter\n",
    "import numpy as np\n",
    "import pandas as pd\n",
    "import seaborn as sns\n",
    "from wordcloud import WordCloud\n",
    "from gensim.models import Word2Vec\n",
    "from matplotlib import pyplot as plt\n",
    "from nltk.stem import (WordNetLemmatizer,\n",
    "                       SnowballStemmer,\n",
    "                       LancasterStemmer)\n",
    "from sklearn.model_selection import train_test_split"
   ]
  },
  {
   "cell_type": "code",
   "execution_count": null,
   "id": "611f1046",
   "metadata": {},
   "outputs": [],
   "source": [
    "os.chdir('C:/Users/dhava/OneDrive/Desktop/anirudh/course/amazon fine food reviews')\n",
    "from models.text_clean import CustomTextClean"
   ]
  },
  {
   "cell_type": "code",
   "execution_count": null,
   "id": "ef927471",
   "metadata": {},
   "outputs": [],
   "source": [
    "stop_w = nltk.corpus.stopwords.words('English')\n",
    "stop_w.remove('no')\n",
    "stop_w.remove('not')\n",
    "stop_w.remove('nor')"
   ]
  },
  {
   "cell_type": "code",
   "execution_count": null,
   "id": "ad37d859",
   "metadata": {},
   "outputs": [],
   "source": [
    "df = pd.read_csv('data/Reviews.csv')"
   ]
  },
  {
   "cell_type": "code",
   "execution_count": null,
   "id": "d5a67bbe",
   "metadata": {},
   "outputs": [],
   "source": [
    "class Preprocess(CustomTextClean):\n",
    "    \"\"\" Has the functions to process the data - \n",
    "    clean the data and save the final data into\n",
    "    the csv\"\"\"\n",
    "    def clean_the_data(self, text_df):\n",
    "        text_df.dropna(axis=0, how='any',inplace=True)\n",
    "        text_df['cleaned_text'] = text_df.swifter.apply(lambda x: self.clean(x))\n",
    "        return text_df['cleaned_text']"
   ]
  },
  {
   "cell_type": "code",
   "execution_count": null,
   "id": "2b7ff28b",
   "metadata": {},
   "outputs": [],
   "source": [
    "pp = Preprocess()"
   ]
  },
  {
   "cell_type": "code",
   "execution_count": null,
   "id": "961500c3",
   "metadata": {},
   "outputs": [],
   "source": [
    "pp.clean_the_data(df['Summary'])"
   ]
  },
  {
   "cell_type": "code",
   "execution_count": null,
   "id": "e9d6a8be",
   "metadata": {},
   "outputs": [],
   "source": []
  }
 ],
 "metadata": {
  "kernelspec": {
   "display_name": "Python 3 (ipykernel)",
   "language": "python",
   "name": "python3"
  },
  "language_info": {
   "codemirror_mode": {
    "name": "ipython",
    "version": 3
   },
   "file_extension": ".py",
   "mimetype": "text/x-python",
   "name": "python",
   "nbconvert_exporter": "python",
   "pygments_lexer": "ipython3",
   "version": "3.9.7"
  }
 },
 "nbformat": 4,
 "nbformat_minor": 5
}
